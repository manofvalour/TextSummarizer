{
 "cells": [
  {
   "cell_type": "code",
   "execution_count": null,
   "id": "621315c3",
   "metadata": {},
   "outputs": [],
   "source": [
    "import os"
   ]
  },
  {
   "cell_type": "code",
   "execution_count": null,
   "id": "9b579c95",
   "metadata": {},
   "outputs": [],
   "source": [
    "%pwd"
   ]
  },
  {
   "cell_type": "code",
   "execution_count": null,
   "id": "39953ae6",
   "metadata": {},
   "outputs": [],
   "source": [
    "os.chdir('../')"
   ]
  },
  {
   "cell_type": "code",
   "execution_count": null,
   "id": "3bc51c99",
   "metadata": {},
   "outputs": [],
   "source": [
    "%pwd"
   ]
  },
  {
   "cell_type": "code",
   "execution_count": null,
   "id": "a1d5d4e7",
   "metadata": {},
   "outputs": [],
   "source": [
    "30%2.4"
   ]
  },
  {
   "cell_type": "code",
   "execution_count": null,
   "id": "073f994b",
   "metadata": {},
   "outputs": [],
   "source": [
    "import numpy as np"
   ]
  },
  {
   "cell_type": "code",
   "execution_count": null,
   "id": "5bc34219",
   "metadata": {},
   "outputs": [],
   "source": [
    "lst = np.array([10,3,4,3,5,6,7,32,34,43])"
   ]
  },
  {
   "cell_type": "code",
   "execution_count": null,
   "id": "51fb6562",
   "metadata": {},
   "outputs": [],
   "source": [
    "def delete(data, item=2):\n",
    "   file = len(data)\n",
    "   for j in range(file):\n",
    "      if data[j] == item:\n",
    "         file -= 1\n",
    "         for k in range(j, file):\n",
    "            data[k] = data[k+1]\n",
    "         return True\n",
    "   return False"
   ]
  },
  {
   "cell_type": "code",
   "execution_count": null,
   "id": "74712e9c",
   "metadata": {},
   "outputs": [],
   "source": [
    "def add(data, item):\n",
    "    file = len(data)\n",
    "    data[file-1]= item\n",
    "    \n",
    "    return data"
   ]
  },
  {
   "cell_type": "code",
   "execution_count": null,
   "id": "8a37f180",
   "metadata": {},
   "outputs": [],
   "source": [
    "lst"
   ]
  },
  {
   "cell_type": "code",
   "execution_count": null,
   "id": "20f6022d",
   "metadata": {},
   "outputs": [],
   "source": [
    "delete(lst, item=10)"
   ]
  },
  {
   "cell_type": "code",
   "execution_count": null,
   "id": "c4a5debc",
   "metadata": {},
   "outputs": [],
   "source": [
    "lst"
   ]
  },
  {
   "cell_type": "code",
   "execution_count": null,
   "id": "e819ccb8",
   "metadata": {},
   "outputs": [],
   "source": [
    "add(lst, item=18)"
   ]
  },
  {
   "cell_type": "code",
   "execution_count": null,
   "id": "70469a7d",
   "metadata": {},
   "outputs": [],
   "source": [
    "## creating the array class (len, search, get, find, insert, delete, traverse, set)\n",
    "\n",
    "class array_item:\n",
    "    def __init__(self, arraysize):\n",
    "        self.__array= [None]*arraysize\n",
    "        self.__nitems= 0\n",
    "\n",
    "    def __len__(self):\n",
    "        return self.__nitems\n",
    "    \n",
    "    def get(self, arra):\n",
    "        if 0 <= arra and arra < self.__nitems:\n",
    "            return self.__array[arra]\n",
    "        \n",
    "        else:\n",
    "            return -1\n",
    "        \n",
    "    def find(self, n):\n",
    "        for data in range(self.__nitems):\n",
    "            if self.__array[data]==n:\n",
    "                return data\n",
    "            return -1\n",
    "            \n",
    "    def search(self, value):\n",
    "        return self.get(self.find(value))  \n",
    "\n",
    "    def set(self, index, value):\n",
    "        if 0<= index and index<self.__nitems:\n",
    "            self.__nitems[index] = value\n",
    "\n",
    "    def insert(self, value):\n",
    "        self.__array[self.__nitems] = value\n",
    "        self.__nitems+=1\n",
    "\n",
    "    def traverse(self):\n",
    "        for n in range(self.__nitems):\n",
    "            print(self.__array[n])\n",
    "\n",
    "    def delete(self,n):\n",
    "        for i in range(self.__nitems):\n",
    "            if self.__array[i]==n:\n",
    "                self.__nitems-=1\n",
    "                for j in range(i,self.__nitems):\n",
    "                    self.__array[j]=self.__array[j+1]\n",
    "                    return True\n",
    "                return False   "
   ]
  },
  {
   "cell_type": "code",
   "execution_count": null,
   "id": "434364cf",
   "metadata": {},
   "outputs": [],
   "source": [
    "arr = array_item(10)\n",
    "\n",
    "arr.insert(2)\n",
    "arr.insert(4)\n",
    "arr.insert(3)\n",
    "arr.insert(5)\n",
    "arr.insert(1)\n",
    "arr.insert(7)\n",
    "arr.insert(8)\n",
    "arr.insert(0)\n",
    "arr.insert(4)\n",
    "arr.insert(5)"
   ]
  },
  {
   "cell_type": "code",
   "execution_count": null,
   "id": "67aaf851",
   "metadata": {},
   "outputs": [],
   "source": [
    "arr.__len__()"
   ]
  },
  {
   "cell_type": "code",
   "execution_count": null,
   "id": "a6bb51da",
   "metadata": {},
   "outputs": [],
   "source": [
    "arr.traverse()"
   ]
  },
  {
   "cell_type": "code",
   "execution_count": null,
   "id": "73f4d0de",
   "metadata": {},
   "outputs": [],
   "source": [
    "arr.delete(2)"
   ]
  },
  {
   "cell_type": "code",
   "execution_count": null,
   "id": "f254936d",
   "metadata": {},
   "outputs": [],
   "source": [
    "arr.__len__()"
   ]
  },
  {
   "cell_type": "code",
   "execution_count": null,
   "id": "32e16957",
   "metadata": {},
   "outputs": [],
   "source": [
    "arr.traverse()"
   ]
  }
 ],
 "metadata": {
  "kernelspec": {
   "display_name": "Python 3",
   "language": "python",
   "name": "python3"
  },
  "language_info": {
   "codemirror_mode": {
    "name": "ipython",
    "version": 3
   },
   "file_extension": ".py",
   "mimetype": "text/x-python",
   "name": "python",
   "nbconvert_exporter": "python",
   "pygments_lexer": "ipython3",
   "version": "3.10.0"
  }
 },
 "nbformat": 4,
 "nbformat_minor": 5
}
