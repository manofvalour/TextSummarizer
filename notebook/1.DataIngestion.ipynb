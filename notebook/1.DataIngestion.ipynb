{
 "cells": [
  {
   "cell_type": "markdown",
   "id": "06ea8dda",
   "metadata": {},
   "source": [
    "### Data Ingestion Module"
   ]
  },
  {
   "cell_type": "code",
   "execution_count": 1,
   "id": "cc29ba4d",
   "metadata": {},
   "outputs": [
    {
     "data": {
      "text/plain": [
       "'/home/eman/Desktop/NLP_huggingface/notebook'"
      ]
     },
     "execution_count": 1,
     "metadata": {},
     "output_type": "execute_result"
    }
   ],
   "source": [
    "import os \n",
    "%pwd"
   ]
  },
  {
   "cell_type": "code",
   "execution_count": 2,
   "id": "3d5bd806",
   "metadata": {},
   "outputs": [],
   "source": [
    "os.chdir('../')"
   ]
  },
  {
   "cell_type": "code",
   "execution_count": 3,
   "id": "ca3ceff1",
   "metadata": {},
   "outputs": [
    {
     "data": {
      "text/plain": [
       "'/home/eman/Desktop/NLP_huggingface'"
      ]
     },
     "execution_count": 3,
     "metadata": {},
     "output_type": "execute_result"
    }
   ],
   "source": [
    "%pwd"
   ]
  },
  {
   "cell_type": "code",
   "execution_count": 4,
   "metadata": {},
   "outputs": [],
   "source": [
    "from dataclasses import dataclass\n",
    "from pathlib import Path\n",
    "\n",
    "@dataclass\n",
    "class DataIngestionConfig:\n",
    "    root_dir: Path\n",
    "    source_url: Path\n",
    "    local_data_file: Path\n",
    "    unzip_dir: Path"
   ]
  },
  {
   "cell_type": "markdown",
   "id": "d00e79fd",
   "metadata": {},
   "source": [
    "## Basic Configuration"
   ]
  },
  {
   "cell_type": "code",
   "execution_count": 5,
   "id": "6cbd9801",
   "metadata": {},
   "outputs": [],
   "source": [
    "from src.TextSummarizer.constants import *\n",
    "from src.TextSummarizer.utils.common_utils import read_yaml, create_dir\n",
    "from src.TextSummarizer.exceptions.customexception import TextSummarizerException\n",
    "from src.TextSummarizer.logger.logger import logger\n",
    "from pathlib import Path\n",
    "import os, sys\n"
   ]
  },
  {
   "cell_type": "code",
   "execution_count": 6,
   "id": "e18a8807",
   "metadata": {},
   "outputs": [],
   "source": [
    "## defining the configuration manager\n",
    "\n",
    "class ConfigurationManager:\n",
    "    def __init__(self, config_path:Path = CONFIG_FILE_PATH, params_path:Path = PARAMS_FILE_PATH):\n",
    "        \n",
    "        try:\n",
    "            self.config = read_yaml(config_path)\n",
    "            self.params = read_yaml(params_path)\n",
    "\n",
    "            artifact_root = self.config.artifacts_root\n",
    "\n",
    "            ## creating the artifact root directory\n",
    "            create_dir([artifact_root])\n",
    "            logger.info(f\"successfully created the artifact root directory of path: {artifact_root}\")\n",
    "\n",
    "        except Exception as e:\n",
    "            logger.error('Unable to initiate the Configuration Manager')\n",
    "            raise TextSummarizerException(e, sys)\n",
    "        \n",
    "    def get_data_ingestion_config(self)-> DataIngestionConfig:\n",
    "        try:\n",
    "            config= self.config.data_ingestion\n",
    "            \n",
    "            ##creating the data ingestion directories\n",
    "            create_dir([config.root_dir])\n",
    "            logger.info(f\"successfully created the data ingestion directory with path: {config.root_dir}\")\n",
    "\n",
    "            data_ingestion_config = DataIngestionConfig(\n",
    "                root_dir=config.root_dir,\n",
    "                source_url = config.source_url,\n",
    "                local_data_file=config.local_data_file,\n",
    "                unzip_dir= config.unzip_dir\n",
    "            )\n",
    "\n",
    "            return data_ingestion_config\n",
    "\n",
    "        except Exception as e:\n",
    "            logger.error(f'Cannot get the data ingestion configuration {e}')\n",
    "            raise TextSummarizerException(e,sys)\n",
    "\n"
   ]
  },
  {
   "cell_type": "markdown",
   "id": "5f775d91",
   "metadata": {},
   "source": [
    "## Components"
   ]
  },
  {
   "cell_type": "code",
   "execution_count": 7,
   "id": "234abef8",
   "metadata": {},
   "outputs": [],
   "source": [
    "import urllib.request as request\n",
    "import zipfile\n",
    "import os"
   ]
  },
  {
   "cell_type": "code",
   "execution_count": null,
   "id": "db4fbe45",
   "metadata": {},
   "outputs": [],
   "source": [
    "## creating our dataingestion class\n",
    "\n",
    "class DataIngestion:\n",
    "    def __init__(self, config: DataIngestionConfig):\n",
    "        self.config=config\n",
    "\n",
    "    def download_file(self):\n",
    "        try:\n",
    "            if not os.path.exists(self.config.local_data_file):\n",
    "                file, header = request.urlretrieve(\n",
    "                    url= self.config.source_url,\n",
    "                    filename= self.config.local_data_file\n",
    "                )\n",
    "                logger.info(f\"File has been downloaded to: {self.config.local_data_file}\")\n",
    "            else:\n",
    "                logger.info('File already exists')\n",
    "\n",
    "        except Exception as e:\n",
    "            logger.error(f'Error downloading file {e}')\n",
    "            raise TextSummarizerException(e,sys)\n",
    "\n",
    "    def extract_zip_file(self):\n",
    "        \"\"\" Extracts the zip file into the data directory\n",
    "\n",
    "        zip_file_path: str\n",
    "        \n",
    "        \n",
    "        returns: None\n",
    "        \"\"\"\n",
    "        try:\n",
    "            unzip_path = self.config.unzip_dir\n",
    "            os.makedirs(unzip_path,exist_ok=True)\n",
    "            logger.info(f'unzip directory created successfully with path: {unzip_path}')\n",
    "\n",
    "            with zipfile.ZipFile(self.config.local_data_file, 'r') as zip_ref:\n",
    "                zip_ref.extractall(unzip_path)\n",
    "                logger.info(f\"file successfully extracted to {unzip_path}\")\n",
    "\n",
    "        except Exception as e:\n",
    "            logger.error(f\"Error unzipping the file {e}\")\n",
    "            raise TextSummarizerException(e,sys)\n",
    "\n",
    "        "
   ]
  },
  {
   "cell_type": "code",
   "execution_count": 14,
   "id": "e7104130",
   "metadata": {},
   "outputs": [
    {
     "name": "stdout",
     "output_type": "stream",
     "text": [
      "[ 2025-08-13 11:37:30,626 ]: textsummarizer: INFO: common_utils: 31: logger file loaded successfully from: {path_to_yaml}\n",
      "[ 2025-08-13 11:37:30,633 ]: textsummarizer: INFO: common_utils: 31: logger file loaded successfully from: {path_to_yaml}\n",
      "[ 2025-08-13 11:37:30,637 ]: textsummarizer: INFO: common_utils: 61: created directory at: artifacts\n",
      "[ 2025-08-13 11:37:30,638 ]: textsummarizer: INFO: 2448609134: 14: successfully created the artifact root directory of path: artifacts\n",
      "[ 2025-08-13 11:37:30,644 ]: textsummarizer: INFO: common_utils: 61: created directory at: artifacts/data_ingestion\n",
      "[ 2025-08-13 11:37:30,647 ]: textsummarizer: INFO: 2448609134: 26: successfully created the data ingestion directory with path: artifacts/data_ingestion\n",
      "[ 2025-08-13 11:37:30,649 ]: textsummarizer: INFO: 3388520733: 16: File already exists\n",
      "[ 2025-08-13 11:37:30,652 ]: textsummarizer: INFO: 3388520733: 33: unzip directory created successfully with path: artifacts/data_ingestion/text_summarizer\n",
      "[ 2025-08-13 11:37:31,401 ]: textsummarizer: INFO: 3388520733: 37: file successfully extracted to artifacts/data_ingestion/text_summarizer\n"
     ]
    }
   ],
   "source": [
    "## running the code\n",
    "\n",
    "config= ConfigurationManager()\n",
    "ingestion_config= config.get_data_ingestion_config()\n",
    "data_ingestion = DataIngestion(ingestion_config)\n",
    "data_ingestion.download_file()\n",
    "data_ingestion.extract_zip_file()"
   ]
  },
  {
   "cell_type": "code",
   "execution_count": null,
   "id": "11e6e41f",
   "metadata": {},
   "outputs": [],
   "source": []
  }
 ],
 "metadata": {
  "kernelspec": {
   "display_name": "Python 3",
   "language": "python",
   "name": "python3"
  },
  "language_info": {
   "codemirror_mode": {
    "name": "ipython",
    "version": 3
   },
   "file_extension": ".py",
   "mimetype": "text/x-python",
   "name": "python",
   "nbconvert_exporter": "python",
   "pygments_lexer": "ipython3",
   "version": "3.10.0"
  }
 },
 "nbformat": 4,
 "nbformat_minor": 5
}
